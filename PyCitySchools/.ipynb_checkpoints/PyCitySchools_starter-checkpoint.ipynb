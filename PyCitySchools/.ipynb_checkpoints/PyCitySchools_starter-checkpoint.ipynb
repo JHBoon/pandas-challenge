{
 "cells": [
  {
   "cell_type": "markdown",
   "metadata": {},
   "source": [
    "# PyCity Schools Analysis\n",
    "\n",
    "- Your analysis here\n",
    "  \n",
    "---"
   ]
  },
  {
   "cell_type": "code",
   "execution_count": 1,
   "metadata": {
    "scrolled": true
   },
   "outputs": [
    {
     "data": {
      "text/html": [
       "<div>\n",
       "<style scoped>\n",
       "    .dataframe tbody tr th:only-of-type {\n",
       "        vertical-align: middle;\n",
       "    }\n",
       "\n",
       "    .dataframe tbody tr th {\n",
       "        vertical-align: top;\n",
       "    }\n",
       "\n",
       "    .dataframe thead th {\n",
       "        text-align: right;\n",
       "    }\n",
       "</style>\n",
       "<table border=\"1\" class=\"dataframe\">\n",
       "  <thead>\n",
       "    <tr style=\"text-align: right;\">\n",
       "      <th></th>\n",
       "      <th>Student ID</th>\n",
       "      <th>student_name</th>\n",
       "      <th>gender</th>\n",
       "      <th>grade</th>\n",
       "      <th>school_name</th>\n",
       "      <th>reading_score</th>\n",
       "      <th>math_score</th>\n",
       "      <th>School ID</th>\n",
       "      <th>type</th>\n",
       "      <th>size</th>\n",
       "      <th>budget</th>\n",
       "    </tr>\n",
       "  </thead>\n",
       "  <tbody>\n",
       "    <tr>\n",
       "      <th>0</th>\n",
       "      <td>0</td>\n",
       "      <td>Paul Bradley</td>\n",
       "      <td>M</td>\n",
       "      <td>9th</td>\n",
       "      <td>Huang High School</td>\n",
       "      <td>66</td>\n",
       "      <td>79</td>\n",
       "      <td>0</td>\n",
       "      <td>District</td>\n",
       "      <td>2917</td>\n",
       "      <td>1910635</td>\n",
       "    </tr>\n",
       "    <tr>\n",
       "      <th>1</th>\n",
       "      <td>1</td>\n",
       "      <td>Victor Smith</td>\n",
       "      <td>M</td>\n",
       "      <td>12th</td>\n",
       "      <td>Huang High School</td>\n",
       "      <td>94</td>\n",
       "      <td>61</td>\n",
       "      <td>0</td>\n",
       "      <td>District</td>\n",
       "      <td>2917</td>\n",
       "      <td>1910635</td>\n",
       "    </tr>\n",
       "    <tr>\n",
       "      <th>2</th>\n",
       "      <td>2</td>\n",
       "      <td>Kevin Rodriguez</td>\n",
       "      <td>M</td>\n",
       "      <td>12th</td>\n",
       "      <td>Huang High School</td>\n",
       "      <td>90</td>\n",
       "      <td>60</td>\n",
       "      <td>0</td>\n",
       "      <td>District</td>\n",
       "      <td>2917</td>\n",
       "      <td>1910635</td>\n",
       "    </tr>\n",
       "    <tr>\n",
       "      <th>3</th>\n",
       "      <td>3</td>\n",
       "      <td>Dr. Richard Scott</td>\n",
       "      <td>M</td>\n",
       "      <td>12th</td>\n",
       "      <td>Huang High School</td>\n",
       "      <td>67</td>\n",
       "      <td>58</td>\n",
       "      <td>0</td>\n",
       "      <td>District</td>\n",
       "      <td>2917</td>\n",
       "      <td>1910635</td>\n",
       "    </tr>\n",
       "    <tr>\n",
       "      <th>4</th>\n",
       "      <td>4</td>\n",
       "      <td>Bonnie Ray</td>\n",
       "      <td>F</td>\n",
       "      <td>9th</td>\n",
       "      <td>Huang High School</td>\n",
       "      <td>97</td>\n",
       "      <td>84</td>\n",
       "      <td>0</td>\n",
       "      <td>District</td>\n",
       "      <td>2917</td>\n",
       "      <td>1910635</td>\n",
       "    </tr>\n",
       "  </tbody>\n",
       "</table>\n",
       "</div>"
      ],
      "text/plain": [
       "   Student ID       student_name gender grade        school_name  \\\n",
       "0           0       Paul Bradley      M   9th  Huang High School   \n",
       "1           1       Victor Smith      M  12th  Huang High School   \n",
       "2           2    Kevin Rodriguez      M  12th  Huang High School   \n",
       "3           3  Dr. Richard Scott      M  12th  Huang High School   \n",
       "4           4         Bonnie Ray      F   9th  Huang High School   \n",
       "\n",
       "   reading_score  math_score  School ID      type  size   budget  \n",
       "0             66          79          0  District  2917  1910635  \n",
       "1             94          61          0  District  2917  1910635  \n",
       "2             90          60          0  District  2917  1910635  \n",
       "3             67          58          0  District  2917  1910635  \n",
       "4             97          84          0  District  2917  1910635  "
      ]
     },
     "execution_count": 1,
     "metadata": {},
     "output_type": "execute_result"
    }
   ],
   "source": [
    "# Dependencies and Setup\n",
    "import os as os\n",
    "import pandas as pd\n",
    "import numpy as np\n",
    "from pathlib import Path\n",
    "\n",
    "# File to Load (Remember to Change These)\n",
    "school_data_to_load = Path(\"Resources\",\"schools_complete.csv\")\n",
    "student_data_to_load = Path(\"Resources\",\"students_complete.csv\")\n",
    "# Read School and Student Data File and store into Pandas DataFrames\n",
    "school_data = pd.read_csv(school_data_to_load)\n",
    "student_data = pd.read_csv(student_data_to_load)\n",
    "\n",
    "# Combine the data into a single dataset.\n",
    "school_data_complete = pd.merge(student_data, school_data, how=\"left\", on=[\"school_name\", \"school_name\"])\n",
    "school_data_complete.head()"
   ]
  },
  {
   "cell_type": "markdown",
   "metadata": {},
   "source": [
    "## District Summary"
   ]
  },
  {
   "cell_type": "code",
   "execution_count": 2,
   "metadata": {},
   "outputs": [
    {
     "name": "stdout",
     "output_type": "stream",
     "text": [
      "15\n"
     ]
    }
   ],
   "source": [
    "#Calculate the total number of unique school.\n",
    "school_data_df = school_data\n",
    "\n",
    "total_rows_school_no_header = len(school_data)\n",
    "\n",
    "school_count = total_rows_school_no_header\n",
    "\n",
    "print(school_count)\n"
   ]
  },
  {
   "cell_type": "code",
   "execution_count": 3,
   "metadata": {},
   "outputs": [
    {
     "name": "stdout",
     "output_type": "stream",
     "text": [
      "39170\n"
     ]
    }
   ],
   "source": [
    "# Calculate the total number of students\n",
    "\n",
    "total_rows_students = len(student_data)\n",
    "\n",
    "student_count = total_rows_students\n",
    "#print the student_count\n",
    "print(student_count)"
   ]
  },
  {
   "cell_type": "code",
   "execution_count": 4,
   "metadata": {},
   "outputs": [
    {
     "name": "stdout",
     "output_type": "stream",
     "text": [
      "24649428\n"
     ]
    }
   ],
   "source": [
    "#Calculate the total budget\n",
    "total_budget = school_data['budget'].sum()\n",
    "print(total_budget)"
   ]
  },
  {
   "cell_type": "code",
   "execution_count": 5,
   "metadata": {},
   "outputs": [
    {
     "name": "stdout",
     "output_type": "stream",
     "text": [
      "78.98537145774827\n"
     ]
    }
   ],
   "source": [
    "# Calculate the average (mean) math score.\n",
    "\n",
    "average_math_score = student_data['math_score'].mean()\n",
    "print(average_math_score)"
   ]
  },
  {
   "cell_type": "code",
   "execution_count": 6,
   "metadata": {},
   "outputs": [
    {
     "name": "stdout",
     "output_type": "stream",
     "text": [
      "81.87784018381414\n"
     ]
    }
   ],
   "source": [
    "#Calculate the average (mean) reading score\n",
    "\n",
    "average_reading_score = student_data[\"reading_score\"].mean()\n",
    "print(average_reading_score)\n"
   ]
  },
  {
   "cell_type": "code",
   "execution_count": 7,
   "metadata": {},
   "outputs": [
    {
     "name": "stdout",
     "output_type": "stream",
     "text": [
      "74.9808526933878\n"
     ]
    }
   ],
   "source": [
    "# Use the following to calculate the percentage of students who passed math (math scores greather than or equal to 70)\n",
    "passing_math_count = school_data_complete[(school_data_complete[\"math_score\"] >= 70)].count()[\"student_name\"]\n",
    "passing_math_percentage = passing_math_count / float(student_count) * 100\n",
    "passing_math_percentage\n",
    "print(passing_math_percentage)\n"
   ]
  },
  {
   "cell_type": "code",
   "execution_count": 8,
   "metadata": {},
   "outputs": [
    {
     "name": "stdout",
     "output_type": "stream",
     "text": [
      "85.80546336482001\n"
     ]
    }
   ],
   "source": [
    "# Calculate the percentage of students who passed reading (hint: look at how the math percentage was calculated)\n",
    "\n",
    "passing_reading_count = school_data_complete[(school_data_complete[\"reading_score\"]>=70)].count()[\"student_name\"]\n",
    "passing_reading_percentage = passing_reading_count/float(student_count) * 100\n",
    "passing_reading_percentage \n",
    "print(passing_reading_percentage)"
   ]
  },
  {
   "cell_type": "code",
   "execution_count": 9,
   "metadata": {},
   "outputs": [
    {
     "name": "stdout",
     "output_type": "stream",
     "text": [
      "65.17232575950983\n"
     ]
    }
   ],
   "source": [
    "# Use the following to calculate the percentage of students that passed math and reading\n",
    "passing_math_reading_count = school_data_complete[\n",
    "    (school_data_complete[\"math_score\"] >= 70) & (school_data_complete[\"reading_score\"] >= 70)\n",
    "].count()[\"student_name\"]\n",
    "overall_passing_rate = passing_math_reading_count /  float(student_count) * 100\n",
    "\n",
    "print(overall_passing_rate)\n"
   ]
  },
  {
   "cell_type": "code",
   "execution_count": 10,
   "metadata": {},
   "outputs": [
    {
     "data": {
      "text/html": [
       "<div>\n",
       "<style scoped>\n",
       "    .dataframe tbody tr th:only-of-type {\n",
       "        vertical-align: middle;\n",
       "    }\n",
       "\n",
       "    .dataframe tbody tr th {\n",
       "        vertical-align: top;\n",
       "    }\n",
       "\n",
       "    .dataframe thead th {\n",
       "        text-align: right;\n",
       "    }\n",
       "</style>\n",
       "<table border=\"1\" class=\"dataframe\">\n",
       "  <thead>\n",
       "    <tr style=\"text-align: right;\">\n",
       "      <th></th>\n",
       "      <th>total schools</th>\n",
       "      <th>Total Students</th>\n",
       "      <th>Total Budget</th>\n",
       "      <th>Average Math Score</th>\n",
       "      <th>Average Reading Score</th>\n",
       "      <th>Pass Math %</th>\n",
       "      <th>Pass Reading %</th>\n",
       "      <th>Overall_passing_rate</th>\n",
       "    </tr>\n",
       "  </thead>\n",
       "  <tbody>\n",
       "    <tr>\n",
       "      <th>0</th>\n",
       "      <td>15</td>\n",
       "      <td>39,170</td>\n",
       "      <td>$24,649,428.00</td>\n",
       "      <td>78.985371</td>\n",
       "      <td>81.87784</td>\n",
       "      <td>74.980853</td>\n",
       "      <td>85.805463</td>\n",
       "      <td>65.172326</td>\n",
       "    </tr>\n",
       "  </tbody>\n",
       "</table>\n",
       "</div>"
      ],
      "text/plain": [
       "   total schools Total Students    Total Budget  Average Math Score  \\\n",
       "0             15         39,170  $24,649,428.00           78.985371   \n",
       "\n",
       "   Average Reading Score  Pass Math %  Pass Reading %  Overall_passing_rate  \n",
       "0               81.87784    74.980853       85.805463             65.172326  "
      ]
     },
     "execution_count": 10,
     "metadata": {},
     "output_type": "execute_result"
    }
   ],
   "source": [
    "# Create a high-level snapshot of the district's key metrics in a DataFrame\n",
    "district_summary = pd.DataFrame({\n",
    "    'total schools':[school_count],\n",
    "    'Total Students':[student_count],\n",
    "    'Total Budget':[total_budget],\n",
    "    'Average Math Score': [average_math_score],\n",
    "    'Average Reading Score': [average_reading_score],\n",
    "    'Pass Math %': [passing_math_percentage],\n",
    "    'Pass Reading %': [passing_reading_percentage],\n",
    "    'Overall_passing_rate':[overall_passing_rate]\n",
    "    })\n",
    "\n",
    "# Formatting\n",
    "district_summary[\"Total Students\"] = district_summary[\"Total Students\"].map(\"{:,}\".format)\n",
    "district_summary[\"Total Budget\"] = district_summary[\"Total Budget\"].map(\"${:,.2f}\".format)\n",
    "\n",
    "\n",
    "# Display the DataFrame\n",
    "district_summary\n"
   ]
  },
  {
   "cell_type": "markdown",
   "metadata": {},
   "source": [
    "## School Summary"
   ]
  },
  {
   "cell_type": "code",
   "execution_count": 11,
   "metadata": {},
   "outputs": [
    {
     "name": "stdout",
     "output_type": "stream",
     "text": [
      "school_name\n",
      "Huang High School        District\n",
      "Figueroa High School     District\n",
      "Shelton High School       Charter\n",
      "Hernandez High School    District\n",
      "Griffin High School       Charter\n",
      "Wilson High School        Charter\n",
      "Cabrera High School       Charter\n",
      "Bailey High School       District\n",
      "Holden High School        Charter\n",
      "Pena High School          Charter\n",
      "Wright High School        Charter\n",
      "Rodriguez High School    District\n",
      "Johnson High School      District\n",
      "Ford High School         District\n",
      "Thomas High School        Charter\n",
      "Name: type, dtype: object\n"
     ]
    }
   ],
   "source": [
    "# Use the code provided to select the type per school from school_data\n",
    "school_types = school_data.set_index([\"school_name\"])[\"type\"]\n",
    "print(school_types)"
   ]
  },
  {
   "cell_type": "code",
   "execution_count": 12,
   "metadata": {},
   "outputs": [
    {
     "data": {
      "text/html": [
       "<div>\n",
       "<style scoped>\n",
       "    .dataframe tbody tr th:only-of-type {\n",
       "        vertical-align: middle;\n",
       "    }\n",
       "\n",
       "    .dataframe tbody tr th {\n",
       "        vertical-align: top;\n",
       "    }\n",
       "\n",
       "    .dataframe thead th {\n",
       "        text-align: right;\n",
       "    }\n",
       "</style>\n",
       "<table border=\"1\" class=\"dataframe\">\n",
       "  <thead>\n",
       "    <tr style=\"text-align: right;\">\n",
       "      <th></th>\n",
       "      <th>Total Students</th>\n",
       "    </tr>\n",
       "    <tr>\n",
       "      <th>school_name</th>\n",
       "      <th></th>\n",
       "    </tr>\n",
       "  </thead>\n",
       "  <tbody>\n",
       "    <tr>\n",
       "      <th>Huang High School</th>\n",
       "      <td>2917</td>\n",
       "    </tr>\n",
       "    <tr>\n",
       "      <th>Figueroa High School</th>\n",
       "      <td>2949</td>\n",
       "    </tr>\n",
       "    <tr>\n",
       "      <th>Shelton High School</th>\n",
       "      <td>1761</td>\n",
       "    </tr>\n",
       "    <tr>\n",
       "      <th>Hernandez High School</th>\n",
       "      <td>4635</td>\n",
       "    </tr>\n",
       "    <tr>\n",
       "      <th>Griffin High School</th>\n",
       "      <td>1468</td>\n",
       "    </tr>\n",
       "    <tr>\n",
       "      <th>Wilson High School</th>\n",
       "      <td>2283</td>\n",
       "    </tr>\n",
       "    <tr>\n",
       "      <th>Cabrera High School</th>\n",
       "      <td>1858</td>\n",
       "    </tr>\n",
       "    <tr>\n",
       "      <th>Bailey High School</th>\n",
       "      <td>4976</td>\n",
       "    </tr>\n",
       "    <tr>\n",
       "      <th>Holden High School</th>\n",
       "      <td>427</td>\n",
       "    </tr>\n",
       "    <tr>\n",
       "      <th>Pena High School</th>\n",
       "      <td>962</td>\n",
       "    </tr>\n",
       "    <tr>\n",
       "      <th>Wright High School</th>\n",
       "      <td>1800</td>\n",
       "    </tr>\n",
       "    <tr>\n",
       "      <th>Rodriguez High School</th>\n",
       "      <td>3999</td>\n",
       "    </tr>\n",
       "    <tr>\n",
       "      <th>Johnson High School</th>\n",
       "      <td>4761</td>\n",
       "    </tr>\n",
       "    <tr>\n",
       "      <th>Ford High School</th>\n",
       "      <td>2739</td>\n",
       "    </tr>\n",
       "    <tr>\n",
       "      <th>Thomas High School</th>\n",
       "      <td>1635</td>\n",
       "    </tr>\n",
       "  </tbody>\n",
       "</table>\n",
       "</div>"
      ],
      "text/plain": [
       "                       Total Students\n",
       "school_name                          \n",
       "Huang High School                2917\n",
       "Figueroa High School             2949\n",
       "Shelton High School              1761\n",
       "Hernandez High School            4635\n",
       "Griffin High School              1468\n",
       "Wilson High School               2283\n",
       "Cabrera High School              1858\n",
       "Bailey High School               4976\n",
       "Holden High School                427\n",
       "Pena High School                  962\n",
       "Wright High School               1800\n",
       "Rodriguez High School            3999\n",
       "Johnson High School              4761\n",
       "Ford High School                 2739\n",
       "Thomas High School               1635"
      ]
     },
     "execution_count": 12,
     "metadata": {},
     "output_type": "execute_result"
    }
   ],
   "source": [
    "# Calculate the total student count per school from school_data\n",
    "# Rename  size to Total Students for later calculations and display.\n",
    "per_school_counts = school_data[['school_name', 'size']].set_index('school_name').rename(columns={'size': 'Total Students'})\n",
    "per_school_counts"
   ]
  },
  {
   "cell_type": "code",
   "execution_count": 13,
   "metadata": {},
   "outputs": [
    {
     "name": "stdout",
     "output_type": "stream",
     "text": [
      "0     655.0\n",
      "1     639.0\n",
      "2     600.0\n",
      "3     652.0\n",
      "4     625.0\n",
      "5     578.0\n",
      "6     582.0\n",
      "7     628.0\n",
      "8     581.0\n",
      "9     609.0\n",
      "10    583.0\n",
      "11    637.0\n",
      "12    650.0\n",
      "13    644.0\n",
      "14    638.0\n",
      "dtype: float64\n",
      "              school_name   budget\n",
      "0       Huang High School  1910635\n",
      "1    Figueroa High School  1884411\n",
      "2     Shelton High School  1056600\n",
      "3   Hernandez High School  3022020\n",
      "4     Griffin High School   917500\n",
      "5      Wilson High School  1319574\n",
      "6     Cabrera High School  1081356\n",
      "7      Bailey High School  3124928\n",
      "8      Holden High School   248087\n",
      "9        Pena High School   585858\n",
      "10     Wright High School  1049400\n",
      "11  Rodriguez High School  2547363\n",
      "12    Johnson High School  3094650\n",
      "13       Ford High School  1763916\n",
      "14     Thomas High School  1043130\n"
     ]
    }
   ],
   "source": [
    "# Calculate the total school budget and per capita spending per school from school_data\n",
    "\n",
    "per_school_budget = school_data[['school_name','budget']]\n",
    "                                 \n",
    "# Calculate per capita spending\n",
    "per_school_capita = per_school_budget['budget']/school_data['size']\n",
    "\n",
    "print(per_school_capita)\n",
    "print(per_school_budget)"
   ]
  },
  {
   "cell_type": "code",
   "execution_count": 14,
   "metadata": {},
   "outputs": [
    {
     "data": {
      "text/plain": [
       "school_name\n",
       "Bailey High School       77.048432\n",
       "Cabrera High School      83.061895\n",
       "Figueroa High School     76.711767\n",
       "Ford High School         77.102592\n",
       "Griffin High School      83.351499\n",
       "Hernandez High School    77.289752\n",
       "Holden High School       83.803279\n",
       "Huang High School        76.629414\n",
       "Johnson High School      77.072464\n",
       "Pena High School         83.839917\n",
       "Rodriguez High School    76.842711\n",
       "Shelton High School      83.359455\n",
       "Thomas High School       83.418349\n",
       "Wilson High School       83.274201\n",
       "Wright High School       83.682222\n",
       "Name: math_score, dtype: float64"
      ]
     },
     "execution_count": 14,
     "metadata": {},
     "output_type": "execute_result"
    }
   ],
   "source": [
    "# Calculate the average test scores per school from school_data_complete\n",
    "per_school_math = school_data_complete.groupby('school_name').agg({'math_score':'mean'})\n",
    "\n",
    "per_school_math = per_school_math['math_score'].squeeze()\n",
    "per_school_math"
   ]
  },
  {
   "cell_type": "code",
   "execution_count": 15,
   "metadata": {},
   "outputs": [
    {
     "data": {
      "text/plain": [
       "school_name\n",
       "Bailey High School       81.033963\n",
       "Cabrera High School      83.975780\n",
       "Figueroa High School     81.158020\n",
       "Ford High School         80.746258\n",
       "Griffin High School      83.816757\n",
       "Hernandez High School    80.934412\n",
       "Holden High School       83.814988\n",
       "Huang High School        81.182722\n",
       "Johnson High School      80.966394\n",
       "Pena High School         84.044699\n",
       "Rodriguez High School    80.744686\n",
       "Shelton High School      83.725724\n",
       "Thomas High School       83.848930\n",
       "Wilson High School       83.989488\n",
       "Wright High School       83.955000\n",
       "Name: reading_score, dtype: float64"
      ]
     },
     "execution_count": 15,
     "metadata": {},
     "output_type": "execute_result"
    }
   ],
   "source": [
    "# Calculate the average test scores per school from school_data_complete\n",
    "per_school_reading = school_data_complete.groupby('school_name').agg({'reading_score':'mean'})\n",
    "per_school_reading = per_school_reading['reading_score'].squeeze()\n",
    "per_school_reading"
   ]
  },
  {
   "cell_type": "code",
   "execution_count": 16,
   "metadata": {},
   "outputs": [
    {
     "data": {
      "text/plain": [
       "school_name\n",
       "Bailey High School       3318\n",
       "Cabrera High School      1749\n",
       "Figueroa High School     1946\n",
       "Ford High School         1871\n",
       "Griffin High School      1371\n",
       "Hernandez High School    3094\n",
       "Holden High School        395\n",
       "Huang High School        1916\n",
       "Johnson High School      3145\n",
       "Pena High School          910\n",
       "Rodriguez High School    2654\n",
       "Shelton High School      1653\n",
       "Thomas High School       1525\n",
       "Wilson High School       2143\n",
       "Wright High School       1680\n",
       "dtype: int64"
      ]
     },
     "execution_count": 16,
     "metadata": {},
     "output_type": "execute_result"
    }
   ],
   "source": [
    "# Calculate the number of students per school with math scores of 70 or higher from school_data_complete\n",
    "students_passing_math = school_data_complete[(school_data_complete[\"math_score\"] >= 70)]\n",
    "school_students_passing_math = students_passing_math.groupby([\"school_name\"]).size()\n",
    "school_students_passing_math"
   ]
  },
  {
   "cell_type": "code",
   "execution_count": 17,
   "metadata": {
    "scrolled": true
   },
   "outputs": [
    {
     "data": {
      "text/plain": [
       "school_name\n",
       "Bailey High School       4077\n",
       "Cabrera High School      1803\n",
       "Figueroa High School     2381\n",
       "Ford High School         2172\n",
       "Griffin High School      1426\n",
       "Hernandez High School    3748\n",
       "Holden High School        411\n",
       "Huang High School        2372\n",
       "Johnson High School      3867\n",
       "Pena High School          923\n",
       "Rodriguez High School    3208\n",
       "Shelton High School      1688\n",
       "Thomas High School       1591\n",
       "Wilson High School       2204\n",
       "Wright High School       1739\n",
       "dtype: int64"
      ]
     },
     "execution_count": 17,
     "metadata": {},
     "output_type": "execute_result"
    }
   ],
   "source": [
    "# Calculate the number of students per school with reading scores of 70 or higher from school_data_complete\n",
    "students_passing_reading = school_data_complete[(school_data_complete[\"reading_score\"] >= 70)]\n",
    "school_students_passing_reading = students_passing_reading.groupby([\"school_name\"]).size()\n",
    "school_students_passing_reading"
   ]
  },
  {
   "cell_type": "code",
   "execution_count": 18,
   "metadata": {
    "scrolled": true
   },
   "outputs": [
    {
     "data": {
      "text/plain": [
       "school_name\n",
       "Bailey High School       2719\n",
       "Cabrera High School      1697\n",
       "Figueroa High School     1569\n",
       "Ford High School         1487\n",
       "Griffin High School      1330\n",
       "Hernandez High School    2481\n",
       "Holden High School        381\n",
       "Huang High School        1561\n",
       "Johnson High School      2549\n",
       "Pena High School          871\n",
       "Rodriguez High School    2119\n",
       "Shelton High School      1583\n",
       "Thomas High School       1487\n",
       "Wilson High School       2068\n",
       "Wright High School       1626\n",
       "dtype: int64"
      ]
     },
     "execution_count": 18,
     "metadata": {},
     "output_type": "execute_result"
    }
   ],
   "source": [
    "# Use the provided code to calculate the number of students per school that passed both math and reading with scores of 70 or higher\n",
    "students_passing_math_and_reading = school_data_complete[\n",
    "    (school_data_complete['reading_score'] >= 70) & (school_data_complete['math_score'] >= 70)]\n",
    "school_students_passing_math_and_reading = students_passing_math_and_reading.groupby([\"school_name\"]).size()\n",
    "\n",
    "school_students_passing_math_and_reading"
   ]
  },
  {
   "cell_type": "code",
   "execution_count": 19,
   "metadata": {},
   "outputs": [
    {
     "name": "stdout",
     "output_type": "stream",
     "text": [
      "                       Total Students\n",
      "school_name                          \n",
      "Huang High School                2917\n",
      "Figueroa High School             2949\n",
      "Shelton High School              1761\n",
      "Hernandez High School            4635\n",
      "Griffin High School              1468\n",
      "Wilson High School               2283\n",
      "Cabrera High School              1858\n",
      "Bailey High School               4976\n",
      "Holden High School                427\n",
      "Pena High School                  962\n",
      "Wright High School               1800\n",
      "Rodriguez High School            3999\n",
      "Johnson High School              4761\n",
      "Ford High School                 2739\n",
      "Thomas High School               1635\n"
     ]
    }
   ],
   "source": [
    "print(per_school_counts)\n"
   ]
  },
  {
   "cell_type": "code",
   "execution_count": 20,
   "metadata": {
    "scrolled": true
   },
   "outputs": [],
   "source": [
    "# Use the provided code to calculate the passing rates\n",
    "per_school_passing_math = students_passing_math / per_school_counts * 100\n",
    "per_school_passing_reading = students_passing_reading / per_school_counts * 100\n",
    "overall_passing_rate = school_students_passing_math_and_reading / per_school_counts * 100"
   ]
  },
  {
   "cell_type": "code",
   "execution_count": 21,
   "metadata": {},
   "outputs": [
    {
     "ename": "ValueError",
     "evalue": "Data must be 1-dimensional, got ndarray of shape (15, 1) instead",
     "output_type": "error",
     "traceback": [
      "\u001b[0;31m---------------------------------------------------------------------------\u001b[0m",
      "\u001b[0;31mValueError\u001b[0m                                Traceback (most recent call last)",
      "Cell \u001b[0;32mIn[21], line 3\u001b[0m\n\u001b[1;32m      1\u001b[0m \u001b[38;5;66;03m# Create a DataFrame called `per_school_summary` with columns for the calculations above.\u001b[39;00m\n\u001b[0;32m----> 3\u001b[0m per_school_summary \u001b[38;5;241m=\u001b[39m pd\u001b[38;5;241m.\u001b[39mDataFrame({\n\u001b[1;32m      4\u001b[0m                  \u001b[38;5;124m'\u001b[39m\u001b[38;5;124mSchool Type\u001b[39m\u001b[38;5;124m'\u001b[39m: school_types,\n\u001b[1;32m      5\u001b[0m                  \u001b[38;5;124m'\u001b[39m\u001b[38;5;124mTotal Students\u001b[39m\u001b[38;5;124m'\u001b[39m:per_school_counts,\n\u001b[1;32m      6\u001b[0m                  \u001b[38;5;124m'\u001b[39m\u001b[38;5;124mTotal School Budget\u001b[39m\u001b[38;5;124m'\u001b[39m: per_school_budget,\n\u001b[1;32m      7\u001b[0m                  \u001b[38;5;124m'\u001b[39m\u001b[38;5;124mPer Student Budget\u001b[39m\u001b[38;5;124m'\u001b[39m: per_school_budget \u001b[38;5;241m/\u001b[39m per_school_counts,\n\u001b[1;32m      8\u001b[0m                  \u001b[38;5;124m'\u001b[39m\u001b[38;5;124mAverage Math Score\u001b[39m\u001b[38;5;124m'\u001b[39m: per_school_math,\n\u001b[1;32m      9\u001b[0m                  \u001b[38;5;124m'\u001b[39m\u001b[38;5;124mAverage Reading Score\u001b[39m\u001b[38;5;124m'\u001b[39m: per_school_reading,\n\u001b[1;32m     10\u001b[0m                  \u001b[38;5;124m'\u001b[39m\u001b[38;5;124m%\u001b[39m\u001b[38;5;124m Passing Math\u001b[39m\u001b[38;5;124m'\u001b[39m: school_students_passing_math \u001b[38;5;241m/\u001b[39m per_school_counts \u001b[38;5;241m*\u001b[39m \u001b[38;5;241m100\u001b[39m,\n\u001b[1;32m     11\u001b[0m                  \u001b[38;5;124m'\u001b[39m\u001b[38;5;124m%\u001b[39m\u001b[38;5;124m Passing Reading\u001b[39m\u001b[38;5;124m'\u001b[39m: school_students_passing_reading \u001b[38;5;241m/\u001b[39m per_school_counts \u001b[38;5;241m*\u001b[39m \u001b[38;5;241m100\u001b[39m,\n\u001b[1;32m     12\u001b[0m                  \u001b[38;5;124m'\u001b[39m\u001b[38;5;124m%\u001b[39m\u001b[38;5;124m Overall Passing\u001b[39m\u001b[38;5;124m'\u001b[39m: school_students_passing_math_and_reading \u001b[38;5;241m/\u001b[39m per_school_counts \u001b[38;5;241m*\u001b[39m \u001b[38;5;241m100\u001b[39m\n\u001b[1;32m     13\u001b[0m })\n\u001b[1;32m     17\u001b[0m \u001b[38;5;66;03m# #set index to school names\u001b[39;00m\n\u001b[1;32m     18\u001b[0m \u001b[38;5;66;03m# Set index to school names\u001b[39;00m\n\u001b[1;32m     19\u001b[0m per_school_summary\u001b[38;5;241m.\u001b[39mindex \u001b[38;5;241m=\u001b[39m school_names\n",
      "File \u001b[0;32m/opt/anaconda3/lib/python3.12/site-packages/pandas/core/frame.py:778\u001b[0m, in \u001b[0;36mDataFrame.__init__\u001b[0;34m(self, data, index, columns, dtype, copy)\u001b[0m\n\u001b[1;32m    772\u001b[0m     mgr \u001b[38;5;241m=\u001b[39m \u001b[38;5;28mself\u001b[39m\u001b[38;5;241m.\u001b[39m_init_mgr(\n\u001b[1;32m    773\u001b[0m         data, axes\u001b[38;5;241m=\u001b[39m{\u001b[38;5;124m\"\u001b[39m\u001b[38;5;124mindex\u001b[39m\u001b[38;5;124m\"\u001b[39m: index, \u001b[38;5;124m\"\u001b[39m\u001b[38;5;124mcolumns\u001b[39m\u001b[38;5;124m\"\u001b[39m: columns}, dtype\u001b[38;5;241m=\u001b[39mdtype, copy\u001b[38;5;241m=\u001b[39mcopy\n\u001b[1;32m    774\u001b[0m     )\n\u001b[1;32m    776\u001b[0m \u001b[38;5;28;01melif\u001b[39;00m \u001b[38;5;28misinstance\u001b[39m(data, \u001b[38;5;28mdict\u001b[39m):\n\u001b[1;32m    777\u001b[0m     \u001b[38;5;66;03m# GH#38939 de facto copy defaults to False only in non-dict cases\u001b[39;00m\n\u001b[0;32m--> 778\u001b[0m     mgr \u001b[38;5;241m=\u001b[39m dict_to_mgr(data, index, columns, dtype\u001b[38;5;241m=\u001b[39mdtype, copy\u001b[38;5;241m=\u001b[39mcopy, typ\u001b[38;5;241m=\u001b[39mmanager)\n\u001b[1;32m    779\u001b[0m \u001b[38;5;28;01melif\u001b[39;00m \u001b[38;5;28misinstance\u001b[39m(data, ma\u001b[38;5;241m.\u001b[39mMaskedArray):\n\u001b[1;32m    780\u001b[0m     \u001b[38;5;28;01mfrom\u001b[39;00m \u001b[38;5;21;01mnumpy\u001b[39;00m\u001b[38;5;21;01m.\u001b[39;00m\u001b[38;5;21;01mma\u001b[39;00m \u001b[38;5;28;01mimport\u001b[39;00m mrecords\n",
      "File \u001b[0;32m/opt/anaconda3/lib/python3.12/site-packages/pandas/core/internals/construction.py:503\u001b[0m, in \u001b[0;36mdict_to_mgr\u001b[0;34m(data, index, columns, dtype, typ, copy)\u001b[0m\n\u001b[1;32m    499\u001b[0m     \u001b[38;5;28;01melse\u001b[39;00m:\n\u001b[1;32m    500\u001b[0m         \u001b[38;5;66;03m# dtype check to exclude e.g. range objects, scalars\u001b[39;00m\n\u001b[1;32m    501\u001b[0m         arrays \u001b[38;5;241m=\u001b[39m [x\u001b[38;5;241m.\u001b[39mcopy() \u001b[38;5;28;01mif\u001b[39;00m \u001b[38;5;28mhasattr\u001b[39m(x, \u001b[38;5;124m\"\u001b[39m\u001b[38;5;124mdtype\u001b[39m\u001b[38;5;124m\"\u001b[39m) \u001b[38;5;28;01melse\u001b[39;00m x \u001b[38;5;28;01mfor\u001b[39;00m x \u001b[38;5;129;01min\u001b[39;00m arrays]\n\u001b[0;32m--> 503\u001b[0m \u001b[38;5;28;01mreturn\u001b[39;00m arrays_to_mgr(arrays, columns, index, dtype\u001b[38;5;241m=\u001b[39mdtype, typ\u001b[38;5;241m=\u001b[39mtyp, consolidate\u001b[38;5;241m=\u001b[39mcopy)\n",
      "File \u001b[0;32m/opt/anaconda3/lib/python3.12/site-packages/pandas/core/internals/construction.py:119\u001b[0m, in \u001b[0;36marrays_to_mgr\u001b[0;34m(arrays, columns, index, dtype, verify_integrity, typ, consolidate)\u001b[0m\n\u001b[1;32m    116\u001b[0m         index \u001b[38;5;241m=\u001b[39m ensure_index(index)\n\u001b[1;32m    118\u001b[0m     \u001b[38;5;66;03m# don't force copy because getting jammed in an ndarray anyway\u001b[39;00m\n\u001b[0;32m--> 119\u001b[0m     arrays, refs \u001b[38;5;241m=\u001b[39m _homogenize(arrays, index, dtype)\n\u001b[1;32m    120\u001b[0m     \u001b[38;5;66;03m# _homogenize ensures\u001b[39;00m\n\u001b[1;32m    121\u001b[0m     \u001b[38;5;66;03m#  - all(len(x) == len(index) for x in arrays)\u001b[39;00m\n\u001b[1;32m    122\u001b[0m     \u001b[38;5;66;03m#  - all(x.ndim == 1 for x in arrays)\u001b[39;00m\n\u001b[0;32m   (...)\u001b[0m\n\u001b[1;32m    125\u001b[0m \n\u001b[1;32m    126\u001b[0m \u001b[38;5;28;01melse\u001b[39;00m:\n\u001b[1;32m    127\u001b[0m     index \u001b[38;5;241m=\u001b[39m ensure_index(index)\n",
      "File \u001b[0;32m/opt/anaconda3/lib/python3.12/site-packages/pandas/core/internals/construction.py:629\u001b[0m, in \u001b[0;36m_homogenize\u001b[0;34m(data, index, dtype)\u001b[0m\n\u001b[1;32m    626\u001b[0m         val \u001b[38;5;241m=\u001b[39m \u001b[38;5;28mdict\u001b[39m(val)\n\u001b[1;32m    627\u001b[0m     val \u001b[38;5;241m=\u001b[39m lib\u001b[38;5;241m.\u001b[39mfast_multiget(val, oindex\u001b[38;5;241m.\u001b[39m_values, default\u001b[38;5;241m=\u001b[39mnp\u001b[38;5;241m.\u001b[39mnan)\n\u001b[0;32m--> 629\u001b[0m val \u001b[38;5;241m=\u001b[39m sanitize_array(val, index, dtype\u001b[38;5;241m=\u001b[39mdtype, copy\u001b[38;5;241m=\u001b[39m\u001b[38;5;28;01mFalse\u001b[39;00m)\n\u001b[1;32m    630\u001b[0m com\u001b[38;5;241m.\u001b[39mrequire_length_match(val, index)\n\u001b[1;32m    631\u001b[0m refs\u001b[38;5;241m.\u001b[39mappend(\u001b[38;5;28;01mNone\u001b[39;00m)\n",
      "File \u001b[0;32m/opt/anaconda3/lib/python3.12/site-packages/pandas/core/construction.py:633\u001b[0m, in \u001b[0;36msanitize_array\u001b[0;34m(data, index, dtype, copy, allow_2d)\u001b[0m\n\u001b[1;32m    631\u001b[0m     \u001b[38;5;28;01melse\u001b[39;00m:\n\u001b[1;32m    632\u001b[0m         data \u001b[38;5;241m=\u001b[39m np\u001b[38;5;241m.\u001b[39marray(data, copy\u001b[38;5;241m=\u001b[39mcopy)\n\u001b[0;32m--> 633\u001b[0m     \u001b[38;5;28;01mreturn\u001b[39;00m sanitize_array(\n\u001b[1;32m    634\u001b[0m         data,\n\u001b[1;32m    635\u001b[0m         index\u001b[38;5;241m=\u001b[39mindex,\n\u001b[1;32m    636\u001b[0m         dtype\u001b[38;5;241m=\u001b[39mdtype,\n\u001b[1;32m    637\u001b[0m         copy\u001b[38;5;241m=\u001b[39m\u001b[38;5;28;01mFalse\u001b[39;00m,\n\u001b[1;32m    638\u001b[0m         allow_2d\u001b[38;5;241m=\u001b[39mallow_2d,\n\u001b[1;32m    639\u001b[0m     )\n\u001b[1;32m    641\u001b[0m \u001b[38;5;28;01melse\u001b[39;00m:\n\u001b[1;32m    642\u001b[0m     _sanitize_non_ordered(data)\n",
      "File \u001b[0;32m/opt/anaconda3/lib/python3.12/site-packages/pandas/core/construction.py:659\u001b[0m, in \u001b[0;36msanitize_array\u001b[0;34m(data, index, dtype, copy, allow_2d)\u001b[0m\n\u001b[1;32m    656\u001b[0m             subarr \u001b[38;5;241m=\u001b[39m cast(np\u001b[38;5;241m.\u001b[39mndarray, subarr)\n\u001b[1;32m    657\u001b[0m             subarr \u001b[38;5;241m=\u001b[39m maybe_infer_to_datetimelike(subarr)\n\u001b[0;32m--> 659\u001b[0m subarr \u001b[38;5;241m=\u001b[39m _sanitize_ndim(subarr, data, dtype, index, allow_2d\u001b[38;5;241m=\u001b[39mallow_2d)\n\u001b[1;32m    661\u001b[0m \u001b[38;5;28;01mif\u001b[39;00m \u001b[38;5;28misinstance\u001b[39m(subarr, np\u001b[38;5;241m.\u001b[39mndarray):\n\u001b[1;32m    662\u001b[0m     \u001b[38;5;66;03m# at this point we should have dtype be None or subarr.dtype == dtype\u001b[39;00m\n\u001b[1;32m    663\u001b[0m     dtype \u001b[38;5;241m=\u001b[39m cast(np\u001b[38;5;241m.\u001b[39mdtype, dtype)\n",
      "File \u001b[0;32m/opt/anaconda3/lib/python3.12/site-packages/pandas/core/construction.py:718\u001b[0m, in \u001b[0;36m_sanitize_ndim\u001b[0;34m(result, data, dtype, index, allow_2d)\u001b[0m\n\u001b[1;32m    716\u001b[0m     \u001b[38;5;28;01mif\u001b[39;00m allow_2d:\n\u001b[1;32m    717\u001b[0m         \u001b[38;5;28;01mreturn\u001b[39;00m result\n\u001b[0;32m--> 718\u001b[0m     \u001b[38;5;28;01mraise\u001b[39;00m \u001b[38;5;167;01mValueError\u001b[39;00m(\n\u001b[1;32m    719\u001b[0m         \u001b[38;5;124mf\u001b[39m\u001b[38;5;124m\"\u001b[39m\u001b[38;5;124mData must be 1-dimensional, got ndarray of shape \u001b[39m\u001b[38;5;132;01m{\u001b[39;00mdata\u001b[38;5;241m.\u001b[39mshape\u001b[38;5;132;01m}\u001b[39;00m\u001b[38;5;124m instead\u001b[39m\u001b[38;5;124m\"\u001b[39m\n\u001b[1;32m    720\u001b[0m     )\n\u001b[1;32m    721\u001b[0m \u001b[38;5;28;01mif\u001b[39;00m is_object_dtype(dtype) \u001b[38;5;129;01mand\u001b[39;00m \u001b[38;5;28misinstance\u001b[39m(dtype, ExtensionDtype):\n\u001b[1;32m    722\u001b[0m     \u001b[38;5;66;03m# i.e. NumpyEADtype(\"O\")\u001b[39;00m\n\u001b[1;32m    724\u001b[0m     result \u001b[38;5;241m=\u001b[39m com\u001b[38;5;241m.\u001b[39masarray_tuplesafe(data, dtype\u001b[38;5;241m=\u001b[39mnp\u001b[38;5;241m.\u001b[39mdtype(\u001b[38;5;124m\"\u001b[39m\u001b[38;5;124mobject\u001b[39m\u001b[38;5;124m\"\u001b[39m))\n",
      "\u001b[0;31mValueError\u001b[0m: Data must be 1-dimensional, got ndarray of shape (15, 1) instead"
     ]
    }
   ],
   "source": [
    "# Create a DataFrame called `per_school_summary` with columns for the calculations above.\n",
    "\n",
    "per_school_summary = pd.DataFrame({\n",
    "                 'School Type': school_types,\n",
    "                 'Total Students':per_school_counts,\n",
    "                 'Total School Budget': per_school_budget,\n",
    "                 'Per Student Budget': per_school_budget / per_school_counts,\n",
    "                 'Average Math Score': per_school_math,\n",
    "                 'Average Reading Score': per_school_reading,\n",
    "                 '% Passing Math': school_students_passing_math / per_school_counts * 100,\n",
    "                 '% Passing Reading': school_students_passing_reading / per_school_counts * 100,\n",
    "                 '% Overall Passing': school_students_passing_math_and_reading / per_school_counts * 100\n",
    "})\n",
    "\n",
    "\n",
    "\n",
    "# #set index to school names\n",
    "# Set index to school names\n",
    "per_school_summary.index = school_names\n",
    "\n",
    "# # Formatting\n",
    "per_school_summary[\"Total School Budget\"] = per_school_summary[\"Total School Budget\"].map(\"${:,.2f}\".format)\n",
    "per_school_summary[\"Per Student Budget\"] = per_school_summary[\"Per Student Budget\"].map(\"${:.2f}\".format)\n",
    "\n",
    "\n",
    "# Display the DataFrame\n",
    "per_school_summary"
   ]
  },
  {
   "cell_type": "markdown",
   "metadata": {},
   "source": [
    "## Highest-Performing Schools (by % Overall Passing)"
   ]
  },
  {
   "cell_type": "code",
   "execution_count": null,
   "metadata": {
    "scrolled": true
   },
   "outputs": [],
   "source": [
    "# Sort the schools by `% Overall Passing` in descending order and display the top 5 rows.\n",
    "top_schools = per_school_summary.sort_values('% Overall Passing', ascending=False)\n",
    "top_schools.head(5)"
   ]
  },
  {
   "cell_type": "markdown",
   "metadata": {},
   "source": [
    "# Bottom Performing Schools (By % Overall Passing)"
   ]
  },
  {
   "cell_type": "code",
   "execution_count": null,
   "metadata": {
    "scrolled": true
   },
   "outputs": [],
   "source": [
    "# Sort the schools by `% Overall Passing` in ascending order and display the top 5 rows.\n",
    "bottom_schools = per_school_summary.sort_values('% Overall Passing', ascending=True)\n",
    "bottom_schools.head(5)"
   ]
  },
  {
   "cell_type": "markdown",
   "metadata": {},
   "source": [
    "# Math Scores by Grade "
   ]
  },
  {
   "cell_type": "code",
   "execution_count": null,
   "metadata": {
    "scrolled": true
   },
   "outputs": [],
   "source": [
    "# Use the code provided to separate the data by grade\n",
    "ninth_graders = school_data_complete[(school_data_complete[\"grade\"] == \"9th\")]\n",
    "tenth_graders = school_data_complete[(school_data_complete[\"grade\"] == \"10th\")]\n",
    "eleventh_graders = school_data_complete[(school_data_complete[\"grade\"] == \"11th\")]\n",
    "twelfth_graders = school_data_complete[(school_data_complete[\"grade\"] == \"12th\")]\n",
    "\n",
    "# Group by `school_name` and take the mean of the `math_score` column for each.\n",
    "ninth_grade_math_scores = ninth_graders.groupby('school_name')['math_score'].mean().reset_index()\n",
    "tenth_grade_math_scores = tenth_graders.groupby('school_name')['math_score'].mean().reset_index()\n",
    "eleventh_grade_math_scores = eleventh_graders.groupby('school_name')['math_score'].mean().reset_index()\n",
    "twelfth_grade_math_scores = twelfth_graders.groupby('school_name')['math_score'].mean().reset_index()\n",
    "\n",
    "# Merge the scores into a single DataFrame\n",
    "math_scores_by_grade = ninth_grade_math_scores.merge(\n",
    "                                    tenth_grade_math_scores, on='school_name', suffixes=('_9th', '_10th')).merge(\n",
    "                                    eleventh_grade_math_scores, on='school_name').merge(twelfth_grade_math_scores, on='school_name', suffixes=('', '_12th'))\n",
    "\n",
    "# Rename the columns for clarity\n",
    "math_scores_by_grade.columns = ['School_name', '9th grade Math', '10th grade Math', '11th grade Math', '12th grade Math']\n",
    "\n",
    "# Display the DataFrame\n",
    "math_scores_by_grade"
   ]
  },
  {
   "cell_type": "markdown",
   "metadata": {},
   "source": [
    "# Reading Score by Grade "
   ]
  },
  {
   "cell_type": "code",
   "execution_count": null,
   "metadata": {},
   "outputs": [],
   "source": [
    "# Use the code provided to separate the data by grade\n",
    "ninth_graders = school_data_complete[(school_data_complete[\"grade\"] == \"9th\")]\n",
    "tenth_graders = school_data_complete[(school_data_complete[\"grade\"] == \"10th\")]\n",
    "eleventh_graders = school_data_complete[(school_data_complete[\"grade\"] == \"11th\")]\n",
    "twelfth_graders = school_data_complete[(school_data_complete[\"grade\"] == \"12th\")]\n",
    "\n",
    "# Group by `school_name` and take the mean of the the `reading_score` column for each.\n",
    "ninth_grade_reading_scores = ninth_graders.groupby('school_name')['reading_score'].mean().reset_index()\n",
    "tenth_grader_reading_scores = tenth_graders.groupby('school_name')['reading_score'].mean().reset_index()\n",
    "eleventh_grader_reading_scores = eleventh_graders.groupby('school_name')['reading_score'].mean().reset_index()\n",
    "twelfth_grader_reading_scores =twelfth_graders.groupby('school_name')['reading_score'].mean().reset_index()\n",
    " \n",
    "# # Combine each of the scores above into single DataFrame called `reading_scores_by_grade`\n",
    "reading_scores_by_grade =ninth_grade_reading_scores.merge(\n",
    "                                    tenth_grader_reading_scores, on='school_name', suffixes=('_9th', '_10th')).merge(\n",
    "                                    eleventh_grader_reading_scores, on='school_name').merge(twelfth_grader_reading_scores, on='school_name', suffixes=('', '_12th'))\n",
    "                             \n",
    "# Minor data wrangling.        \n",
    "reading_scores_by_grade.index.name = None\n",
    "\n",
    "# Display the DataFrame\n",
    "reading_scores_by_grade"
   ]
  },
  {
   "cell_type": "markdown",
   "metadata": {},
   "source": [
    "## Scores by School Spending"
   ]
  },
  {
   "cell_type": "code",
   "execution_count": null,
   "metadata": {},
   "outputs": [],
   "source": [
    "# Establish the bins\n",
    "spending_bins = [0, 585, 630, 645, 680]\n",
    "labels = [\"<$585\", \"$585-630\", \"$630-645\", \"$645-680\"]"
   ]
  },
  {
   "cell_type": "code",
   "execution_count": null,
   "metadata": {},
   "outputs": [],
   "source": [
    "# Create a copy of the school summary since it has the \"Per Student Budget\"\n",
    "school_spending_df = per_school_summary.copy()"
   ]
  },
  {
   "cell_type": "code",
   "execution_count": null,
   "metadata": {},
   "outputs": [],
   "source": [
    "# Use `pd.cut` on the per_school_capita Series from earlier to categorize per student spending based on the bins.\n",
    "school_spending_df[\"Spending Ranges (Per Student)\"] = pd.cut(per_school_capita,spending_bins,labels=labels,right=False)\n",
    "\n",
    "# Convert Spending Ranges (Per Student) to a string\n",
    "school_spending_df[\"Spending Ranges (Per Student)\"] = school_spending_df[\"Spending Ranges (Per Student)\"].astype(str)\n",
    "                                         \n",
    "school_spending_df\n"
   ]
  },
  {
   "cell_type": "code",
   "execution_count": null,
   "metadata": {},
   "outputs": [],
   "source": [
    "#  Calculate averages for the desired columns.\n",
    "spending_math_scores = school_spending_df.groupby([\"Spending Ranges (Per Student)\"])[\"Average Math Score\"].mean()\n",
    "spending_reading_scores = school_spending_df.groupby([\"Spending Ranges (Per Student)\"])[\"Average Reading Score\"].mean()\n",
    "spending_passing_math = school_spending_df.groupby([\"Spending Ranges (Per Student)\"])[\"% Passing Math\"].mean()\n",
    "spending_passing_reading = school_spending_df.groupby([\"Spending Ranges (Per Student)\"])[\"% Passing Reading\"].mean()\n",
    "overall_passing_spending = school_spending_df.groupby([\"Spending Ranges (Per Student)\"])[\"% Overall Passing\"].mean()\n"
   ]
  },
  {
   "cell_type": "code",
   "execution_count": null,
   "metadata": {},
   "outputs": [],
   "source": [
    "# Assemble into DataFrame\n",
    "spending_summary = pd.DataFrame(\n",
    "        {\n",
    "                                'Spending Math Scores':spending_math_scores,\n",
    "                                'Spending Reading Scores':spending_reading_scores,\n",
    "                                'Spending Passing Math':spending_passing_math,\n",
    "                                'Spending Passing Reading':spending_passing_reading,\n",
    "                                'Overall Passing Spending':overall_passing_spending,\n",
    "                                })\n",
    "\n",
    "# Display results\n",
    "spending_summary\n"
   ]
  },
  {
   "cell_type": "markdown",
   "metadata": {},
   "source": [
    "## Scores by School Size"
   ]
  },
  {
   "cell_type": "code",
   "execution_count": null,
   "metadata": {},
   "outputs": [],
   "source": [
    "# Establish the bins.\n",
    "size_bins = [0, 1000, 2000, 5000]\n",
    "labels = [\"Small (<1000)\", \"Medium (1000-2000)\", \"Large (2000-5000)\"]"
   ]
  },
  {
   "cell_type": "code",
   "execution_count": null,
   "metadata": {},
   "outputs": [],
   "source": [
    "# Create a copy of the school summary for later aggregations\n",
    "school_size_df = per_school_summary.copy()"
   ]
  },
  {
   "cell_type": "code",
   "execution_count": null,
   "metadata": {},
   "outputs": [],
   "source": [
    "#Categorize the spending based on the bins\n",
    "\n",
    "#turn total students into a string\n",
    "per_school_summary[\"Total Students\"] = per_school_summary[\"Total Students\"].astype(str)\n",
    "\n",
    "# Use `pd.cut` on the \"Total Students\" column of the `per_school_summary` DataFrame.\n",
    "per_school_summary[\"Total Students Bins\"] = pd.cut(per_school_counts,size_bins,labels=labels,right=False)\n",
    "\n",
    "per_school_summary\n"
   ]
  },
  {
   "cell_type": "code",
   "execution_count": null,
   "metadata": {},
   "outputs": [],
   "source": [
    "per_school_counts=pd.DataFrame({\n",
    "                        \"Total Students\":"
   ]
  },
  {
   "cell_type": "code",
   "execution_count": null,
   "metadata": {
    "scrolled": true
   },
   "outputs": [],
   "source": [
    "#Categorize the spending based on the bins\n",
    "\n",
    "#turn total students into a string\n",
    "per_school_counts['School Size'] = pd.cut(per_school_counts[\"Total Students Bins\"],bins=size_bins,label=labels)\n",
    "\n",
    "size_math_scores = per_school_counts.groupby(\"School Size\")[\"Average Math Score\"].mean()\n",
    "size_reading_scores = per_school_counts.groupby(\"School Size\")[\"Average Reading Score\"].mean()\n",
    "size_passing_math = per_school_counts.groupby(\"School Size\")[\"% Passing Math\"].mean()\n",
    "size_passing_reading = per_school_counts.groupby(\"School Size\")[\"% Passing Reading\"].mean()\n",
    "size_overall_passing = per_school_counts.groupby(\"School Size\")[\"% Overall Passing\"].mean()\n",
    "\n",
    "\n",
    "# Create the summary DataFrame\n",
    "size_summary = pd.DataFrame({\n",
    "    \"School Size\": size_math_scores.index,\n",
    "    \"Average Math Score\": size_math_scores.values,\n",
    "    \"Average Reading Score\": size_reading_scores.values,\n",
    "    \"% Passing Math\": size_passing_math.values,\n",
    "    \"% Passing Reading\": size_passing_reading.values,\n",
    "    \"% Overall Passing\": size_overall_passing.values\n",
    "})\n",
    "                                        \n",
    "size_summary"
   ]
  },
  {
   "cell_type": "code",
   "execution_count": null,
   "metadata": {},
   "outputs": [],
   "source": [
    "# Calculate averages for the desired columns.\n",
    "size_math_scores = per_school_summary.groupby([\"Total Students\"])[\"Average Math Score\"].mean()\n",
    "size_reading_scores = per_school_summary.groupby([\"Total Students\"])[\"Average Reading Score\"].mean()\n",
    "size_passing_math = per_school_summary.groupby([\"Total Students\"])[\"% Passing Math\"].mean()\n",
    "size_passing_reading = per_school_summary.groupby([\"Total Students\"])[\"% Passing Reading\"].mean()\n",
    "size_overall_passing = per_school_summary.groupby([\"Total Students\"])[\"% Overall Passing\"].mean()\n"
   ]
  },
  {
   "cell_type": "code",
   "execution_count": null,
   "metadata": {},
   "outputs": [],
   "source": [
    "# Create a DataFrame called `size_summary` that breaks down school performance based on school size (small, medium, or large).\n",
    "\n",
    "# Use the scores above to create a new DataFrame called `size_summary`\n",
    "size_summary=pd.DataFrame({\n",
    "                \"School Size\": per_school_counts.index, \n",
    "                \"Average Math Score\": size_math_scores,\n",
    "                \"Average Reading Score\" : size_reading_scores,\n",
    "                \"% Passing Math\": size_passing_math,\n",
    "                \"% Passing Reading\":size_passing_reading,\n",
    "                \"% Overall Passing\": size_overall_passing\n",
    "        }\n",
    ")\n",
    "#per_school_summary.set_index(\"Total Students Bins\", inplace=True)\n",
    "\n",
    "# Display results\n",
    "size_summary\n"
   ]
  },
  {
   "cell_type": "markdown",
   "metadata": {},
   "source": [
    "## Scores by School Type"
   ]
  },
  {
   "cell_type": "code",
   "execution_count": null,
   "metadata": {},
   "outputs": [],
   "source": [
    "# Group the per_school_summary DataFrame by \"School Type\" and average the results.\n",
    "average_math_score_by_type = per_school_summary.groupby([\"School Type\"])[\"Average Math Score\"].mean()\n",
    "average_reading_score_by_type = per_school_summary.groupby([\"School Type\"])[\"Average Reading Score\"].mean()\n",
    "average_percent_passing_math_by_type = per_school_summary.groupby([\"School Type\"])[\"% Passing Math\"].mean()\n",
    "average_percent_passing_reading_by_type = per_school_summary.groupby([\"School Type\"])[\"% Passing Reading\"].mean()\n",
    "average_percent_overall_passing_by_type = per_school_summary.groupby([\"School Type\"])[\"% Overall Passing\"].mean()"
   ]
  },
  {
   "cell_type": "code",
   "execution_count": null,
   "metadata": {},
   "outputs": [],
   "source": [
    "# Assemble the new data by type into a DataFrame called `type_summary`\n",
    "type_summary = pd.DataFrame ({\n",
    "                    \"Mean Math Score by Type\":average_math_score_by_type,\n",
    "                    \"Mean Reading Score by Type\":average_reading_score_by_type,\n",
    "                    \"Mean Percentage passing math by type\":average_percent_passing_math_by_type,\n",
    "                    \"Mean percentage Passing Reading by Type\":average_percent_passing_reading_by_type\n",
    "})\n",
    "                             \n",
    "# Display results\n",
    "type_summary\n"
   ]
  }
 ],
 "metadata": {
  "anaconda-cloud": {},
  "kernel_info": {
   "name": "python3"
  },
  "kernelspec": {
   "display_name": "Python 3 (ipykernel)",
   "language": "python",
   "name": "python3"
  },
  "language_info": {
   "codemirror_mode": {
    "name": "ipython",
    "version": 3
   },
   "file_extension": ".py",
   "mimetype": "text/x-python",
   "name": "python",
   "nbconvert_exporter": "python",
   "pygments_lexer": "ipython3",
   "version": "3.12.4"
  },
  "latex_envs": {
   "LaTeX_envs_menu_present": true,
   "autoclose": false,
   "autocomplete": true,
   "bibliofile": "biblio.bib",
   "cite_by": "apalike",
   "current_citInitial": 1,
   "eqLabelWithNumbers": true,
   "eqNumInitial": 1,
   "hotkeys": {
    "equation": "Ctrl-E",
    "itemize": "Ctrl-I"
   },
   "labels_anchors": false,
   "latex_user_defs": false,
   "report_style_numbering": false,
   "user_envs_cfg": false
  },
  "nteract": {
   "version": "0.8.4"
  }
 },
 "nbformat": 4,
 "nbformat_minor": 4
}
